{
  "nbformat": 4,
  "nbformat_minor": 0,
  "metadata": {
    "colab": {
      "provenance": [],
      "authorship_tag": "ABX9TyPvG7ARcA0OFmw+CQdxDnsn",
      "include_colab_link": true
    },
    "kernelspec": {
      "name": "python3",
      "display_name": "Python 3"
    },
    "language_info": {
      "name": "python"
    }
  },
  "cells": [
    {
      "cell_type": "markdown",
      "metadata": {
        "id": "view-in-github",
        "colab_type": "text"
      },
      "source": [
        "<a href=\"https://colab.research.google.com/github/aakashk243/Machine_Learning_Lab/blob/main/Linear_Regression/BMI_Pred.ipynb\" target=\"_parent\"><img src=\"https://colab.research.google.com/assets/colab-badge.svg\" alt=\"Open In Colab\"/></a>"
      ]
    },
    {
      "cell_type": "code",
      "execution_count": 21,
      "metadata": {
        "colab": {
          "base_uri": "https://localhost:8080/"
        },
        "id": "yP8MZAeoR3kB",
        "outputId": "3b136301-6e71-4042-dae2-c1190270071b"
      },
      "outputs": [
        {
          "output_type": "stream",
          "name": "stdout",
          "text": [
            "\n",
            "Prediction Results:\n",
            "    Actual  Predicted\n",
            "0      71  74.235473\n",
            "1      82  81.669395\n"
          ]
        }
      ],
      "source": [
        "import pandas as pd\n",
        "from sklearn.linear_model import LinearRegression\n",
        "from sklearn.model_selection import train_test_split\n",
        "from sklearn.preprocessing import LabelEncoder\n",
        "from sklearn.metrics import mean_squared_error\n",
        "\n",
        "# 1. Create DataFrame manually from the image data\n",
        "data = {\n",
        "    'Weight': [79, 69, 73, 95, 82, 55, 69, 71, 64, 69],\n",
        "    'Height': [1.80, 1.68, 1.82, 1.70, 1.87, 1.55, 1.50, 1.78, 1.67, 1.64],\n",
        "    'Age':    [35, 39, 25, 60, 27, 18, 89, 42, 16, 52],\n",
        "    'Gender': ['Male', 'Male', 'Male', 'Male', 'Male',\n",
        "               'Female', 'Female', 'Female', 'Female', 'Female']\n",
        "}\n",
        "\n",
        "df = pd.DataFrame(data)\n",
        "\n",
        "# 2. Encode Gender (Male: 0, Female: 1)\n",
        "df['Gender'] = df['Gender'].map({'Male': 0, 'Female': 1})\n",
        "\n",
        "# 3. Define X (independent) and y (dependent)\n",
        "X = df[['Height', 'Age', 'Gender']]\n",
        "y = df['Weight']\n",
        "\n",
        "# 4. Train-Test Split\n",
        "X_train, X_test, y_train, y_test = train_test_split(X, y, test_size=0.2)\n",
        "\n",
        "# 5. Train Linear Regression Model\n",
        "model = LinearRegression()\n",
        "model.fit(X_train, y_train)\n",
        "\n",
        "# 6. Predict and Evaluate\n",
        "y_pred = model.predict(X_test)\n",
        "\n",
        "\n",
        "# 8. Optional: Show predicted vs actual\n",
        "results = pd.DataFrame({'Actual': y_test.values, 'Predicted': y_pred})\n",
        "print(\"\\nPrediction Results:\\n\", results)\n"
      ]
    }
  ]
}