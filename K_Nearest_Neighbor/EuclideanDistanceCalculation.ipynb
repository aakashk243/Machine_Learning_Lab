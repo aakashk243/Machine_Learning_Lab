{
  "nbformat": 4,
  "nbformat_minor": 0,
  "metadata": {
    "colab": {
      "provenance": [],
      "authorship_tag": "ABX9TyPJ022AnxZPjaYG4hWE2QTc",
      "include_colab_link": true
    },
    "kernelspec": {
      "name": "python3",
      "display_name": "Python 3"
    },
    "language_info": {
      "name": "python"
    }
  },
  "cells": [
    {
      "cell_type": "markdown",
      "metadata": {
        "id": "view-in-github",
        "colab_type": "text"
      },
      "source": [
        "<a href=\"https://colab.research.google.com/github/aakashk243/Machine_Learning_Lab/blob/main/K_Nearest_Neighbor/EuclideanDistanceCalculation.ipynb\" target=\"_parent\"><img src=\"https://colab.research.google.com/assets/colab-badge.svg\" alt=\"Open In Colab\"/></a>"
      ]
    },
    {
      "cell_type": "code",
      "execution_count": 10,
      "metadata": {
        "colab": {
          "base_uri": "https://localhost:8080/"
        },
        "id": "GjrtmzSiX_ls",
        "outputId": "ab8425ee-b84d-4048-895c-50198ef3a698"
      },
      "outputs": [
        {
          "output_type": "stream",
          "name": "stdout",
          "text": [
            "New point (40, 60) is classified as: Blue\n",
            "Nearest distance: 14.1421\n"
          ]
        }
      ],
      "source": [
        "import math\n",
        "\n",
        "# Given Data\n",
        "data = [\n",
        "    (40, 20, 'Red'),\n",
        "    (50, 50, 'Blue'),\n",
        "    (60, 90, 'Blue'),\n",
        "    (10, 25, 'Red'),\n",
        "    (70, 70, 'Blue'),\n",
        "    (60, 10, 'Red'),\n",
        "    (25, 80, 'Blue')\n",
        "]\n",
        "\n",
        "# Test Point\n",
        "new_point = (40, 60)\n",
        "\n",
        "distances = []\n",
        "\n",
        "# calculating Euclidean Distances\n",
        "for (b, s, cls) in data:\n",
        "    distance = math.sqrt((new_point[0] - b)**2 + (new_point[1] - s)**2)\n",
        "    distances.append((distance, cls))\n",
        "\n",
        "# Find nearest neighbor\n",
        "distances.sort()  # Sorting\n",
        "nearest_distance, nearest_class = distances[0]\n",
        "\n",
        "# Printing Answer\n",
        "print(f\"New point {new_point} is classified as: {nearest_class}\")\n",
        "print(f\"Nearest distance: {round(nearest_distance, 4)}\")\n"
      ]
    }
  ]
}