{
  "nbformat": 4,
  "nbformat_minor": 0,
  "metadata": {
    "colab": {
      "provenance": [],
      "authorship_tag": "ABX9TyPXdbmRHNqTwqu+J3KZ/3sF",
      "include_colab_link": true
    },
    "kernelspec": {
      "name": "python3",
      "display_name": "Python 3"
    },
    "language_info": {
      "name": "python"
    }
  },
  "cells": [
    {
      "cell_type": "markdown",
      "metadata": {
        "id": "view-in-github",
        "colab_type": "text"
      },
      "source": [
        "<a href=\"https://colab.research.google.com/github/aakashk243/Machine_Learning_Lab/blob/main/PrincipalComponentAnalysis/PCA_Ex2.ipynb\" target=\"_parent\"><img src=\"https://colab.research.google.com/assets/colab-badge.svg\" alt=\"Open In Colab\"/></a>"
      ]
    },
    {
      "cell_type": "code",
      "execution_count": 5,
      "metadata": {
        "colab": {
          "base_uri": "https://localhost:8080/"
        },
        "id": "yEeXM-daGDtt",
        "outputId": "5d35ae93-82a2-4daa-9545-fda4fe6b164e"
      },
      "outputs": [
        {
          "output_type": "stream",
          "name": "stdout",
          "text": [
            "Factor Loadings Table:\n",
            "                  PC1    PC2    PC3\n",
            "Variable                           \n",
            "Climate         0.190  0.017  0.207\n",
            "Housing         0.544  0.020  0.204\n",
            "Health          0.782 -0.605  0.144\n",
            "Crime           0.365  0.294  0.585\n",
            "Transportation  0.585  0.085  0.234\n",
            "Education       0.394 -0.273  0.027\n",
            "Arts            0.985  0.126 -0.111\n",
            "Recreation      0.520  0.402  0.519\n",
            "Economy         0.142  0.150  0.239 \n",
            "\n",
            "Dominant variable for each Principal Component:\n",
            "PC1      Arts\n",
            "PC2    Health\n",
            "PC3     Crime\n",
            "dtype: object\n"
          ]
        }
      ],
      "source": [
        "import pandas as pd\n",
        "import numpy as np\n",
        "\n",
        "# Given Dataset from the question\n",
        "data = {\n",
        "    \"Variable\": [\n",
        "        \"Climate\", \"Housing\", \"Health\", \"Crime\", \"Transportation\",\n",
        "        \"Education\", \"Arts\", \"Recreation\", \"Economy\"\n",
        "    ],\n",
        "    \"PC1\": [0.190, 0.544, 0.782, 0.365, 0.585, 0.394, 0.985, 0.520, 0.142],\n",
        "    \"PC2\": [0.017, 0.020, -0.605, 0.294, 0.085, -0.273, 0.126, 0.402, 0.150],\n",
        "    \"PC3\": [0.207, 0.204, 0.144, 0.585, 0.234, 0.027, -0.111, 0.519, 0.239]\n",
        "}\n",
        "\n",
        "df = pd.DataFrame(data)\n",
        "\n",
        "# Set \"Variable\" as index for accesing each PC\n",
        "df = df.set_index(\"Variable\")\n",
        "print(\"Factor Loadings Table:\")\n",
        "print(df, \"\\n\")\n",
        "\n",
        "# Find the dominant variable for each principal component,need to scale adn find Principle Componenets as they are already given\n",
        "dominant_variables = df.abs().idxmax()\n",
        "print(\"Dominant variable for each Principal Component:\")\n",
        "print(dominant_variables)\n"
      ]
    }
  ]
}